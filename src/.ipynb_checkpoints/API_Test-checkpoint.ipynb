{
 "cells": [
  {
   "cell_type": "code",
   "execution_count": 3,
   "id": "1abe148f-c36c-41de-b062-004aa993163d",
   "metadata": {},
   "outputs": [
    {
     "name": "stdout",
     "output_type": "stream",
     "text": [
      "Prediction: versicolor\n"
     ]
    }
   ],
   "source": [
    "import requests\n",
    "\n",
    "url = \"http://127.0.0.1:8000/predict\"\n",
    "\n",
    "input = {\n",
    "    \"sepal length (cm)\": 6.1,\n",
    "    \"sepal width (cm)\": 2.8,\n",
    "    \"petal length (cm)\": 4.7,\n",
    "    \"petal width (cm)\": 1.2\n",
    "}\n",
    "\n",
    "response = requests.post(url, json=input)\n",
    "print(\"Prediction:\", (response.json()).get('prediction'))\n"
   ]
  },
  {
   "cell_type": "code",
   "execution_count": null,
   "id": "cfae0652-f592-42d4-b366-624062d1b403",
   "metadata": {},
   "outputs": [],
   "source": []
  }
 ],
 "metadata": {
  "kernelspec": {
   "display_name": "Python 3 (ipykernel)",
   "language": "python",
   "name": "python3"
  },
  "language_info": {
   "codemirror_mode": {
    "name": "ipython",
    "version": 3
   },
   "file_extension": ".py",
   "mimetype": "text/x-python",
   "name": "python",
   "nbconvert_exporter": "python",
   "pygments_lexer": "ipython3",
   "version": "3.13.5"
  }
 },
 "nbformat": 4,
 "nbformat_minor": 5
}
