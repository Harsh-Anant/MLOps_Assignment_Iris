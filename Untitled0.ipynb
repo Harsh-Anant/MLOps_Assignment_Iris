{
  "nbformat": 4,
  "nbformat_minor": 0,
  "metadata": {
    "colab": {
      "provenance": [],
      "authorship_tag": "ABX9TyOdzEIesQXNQrCUEL6ZoV3i",
      "include_colab_link": true
    },
    "kernelspec": {
      "name": "python3",
      "display_name": "Python 3"
    },
    "language_info": {
      "name": "python"
    }
  },
  "cells": [
    {
      "cell_type": "markdown",
      "metadata": {
        "id": "view-in-github",
        "colab_type": "text"
      },
      "source": [
        "<a href=\"https://colab.research.google.com/github/Harsh-Anant/MLOps_Assignment_Iris/blob/main/Untitled0.ipynb\" target=\"_parent\"><img src=\"https://colab.research.google.com/assets/colab-badge.svg\" alt=\"Open In Colab\"/></a>"
      ]
    },
    {
      "cell_type": "code",
      "execution_count": 2,
      "metadata": {
        "id": "iIYO9YWqADH1"
      },
      "outputs": [],
      "source": [
        "from fastapi import FastAPI\n",
        "from typing import List\n",
        "import logging\n",
        "\n",
        "app = FastAPI()\n",
        "\n",
        "# Setup logging\n",
        "logging.basicConfig(filename=\"app.log\", level=logging.INFO,\n",
        "                    format=\"%(asctime)s - %(levelname)s - %(message)s\")\n",
        "\n",
        "@app.post(\"/predict\")\n",
        "def predict(data: List[List[float]]):\n",
        "    logging.info(f\"Incoming request data: {data}\")\n",
        "    # Replace this with actual model prediction logic\n",
        "    prediction = [\"Iris-setosa\"] * len(data)\n",
        "    logging.info(f\"Model output: {prediction}\")\n",
        "    return {\"predictions\": prediction}\n"
      ]
    },
    {
      "cell_type": "code",
      "source": [
        "#Logging Incoming Requests & Model Outputs\n",
        "import logging\n",
        "\n",
        "# Set up logging\n",
        "logging.basicConfig(filename=\"app.log\", level=logging.INFO,\n",
        "                    format=\"%(asctime)s - %(levelname)s - %(message)s\")\n",
        "\n",
        "@app.post(\"/predict\")\n",
        "def predict(data: List[List[float]]):\n",
        "    logging.info(f\"Incoming request data: {data}\")\n",
        "    prediction = model.predict(data).tolist()\n",
        "    logging.info(f\"Model output: {prediction}\")\n",
        "    return {\"predictions\": prediction}\n"
      ],
      "metadata": {
        "id": "Mhb505BjAY4b"
      },
      "execution_count": 5,
      "outputs": []
    },
    {
      "cell_type": "code",
      "source": [
        "#Store Logs in SQLite (Optional but recommended)\n",
        "import sqlite3\n",
        "\n",
        "# Create table if not exists\n",
        "conn = sqlite3.connect(\"logs.db\")\n",
        "cursor = conn.cursor()\n",
        "cursor.execute('''\n",
        "CREATE TABLE IF NOT EXISTS predictions (\n",
        "    id INTEGER PRIMARY KEY AUTOINCREMENT,\n",
        "    input TEXT,\n",
        "    output TEXT,\n",
        "    timestamp DATETIME DEFAULT CURRENT_TIMESTAMP\n",
        ")\n",
        "''')\n",
        "conn.commit()\n",
        "conn.close()\n",
        "\n",
        "@app.post(\"/predict\")\n",
        "def predict(data: List[List[float]]):\n",
        "    prediction = model.predict(data).tolist()\n",
        "    # Save to SQLite\n",
        "    conn = sqlite3.connect(\"logs.db\")\n",
        "    cursor = conn.cursor()\n",
        "    cursor.execute(\"INSERT INTO predictions (input, output) VALUES (?, ?)\", (str(data), str(prediction)))\n",
        "    conn.commit()\n",
        "    conn.close()\n",
        "    return {\"predictions\": prediction}\n"
      ],
      "metadata": {
        "id": "TozkNrEBAcCf"
      },
      "execution_count": 6,
      "outputs": []
    },
    {
      "cell_type": "code",
      "source": [
        "#Expose a /metrics Endpoint (Optional)\n",
        "@app.get(\"/metrics\")\n",
        "def metrics():\n",
        "    conn = sqlite3.connect(\"logs.db\")\n",
        "    cursor = conn.cursor()\n",
        "    cursor.execute(\"SELECT COUNT(*) FROM predictions\")\n",
        "    count = cursor.fetchone()[0]\n",
        "    conn.close()\n",
        "    return {\"total_predictions\": count}\n"
      ],
      "metadata": {
        "id": "t5oi9Iy7Au_o"
      },
      "execution_count": 7,
      "outputs": []
    }
  ]
}