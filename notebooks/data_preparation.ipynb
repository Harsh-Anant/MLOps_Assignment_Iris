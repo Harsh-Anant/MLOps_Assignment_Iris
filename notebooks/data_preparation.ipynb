{
 "cells": [
  {
   "cell_type": "code",
   "execution_count": 2,
   "metadata": {
    "colab": {
     "base_uri": "https://localhost:8080/"
    },
    "id": "YAVAzVarChuz",
    "outputId": "286fde0e-84c3-491d-e964-49ceb6048ea8"
   },
   "outputs": [
    {
     "name": "stdout",
     "output_type": "stream",
     "text": [
      "Iris dataset loaded, preprocessed, and saved to data/\n"
     ]
    }
   ],
   "source": [
    "import pandas as pd\n",
    "from sklearn.datasets import load_iris\n",
    "from sklearn.model_selection import train_test_split\n",
    "import os\n",
    "\n",
    "def load_and_preprocess_iris():\n",
    "    iris = load_iris()\n",
    "    X = pd.DataFrame(iris.data, columns=iris.feature_names)\n",
    "    y = pd.Series(iris.target, name='species')\n",
    "\n",
    "    # Basic preprocessing: no missing values, scaling might be needed for some models\n",
    "    # For simplicity, we'll just split for now\n",
    "    X_train, X_test, y_train, y_test = train_test_split(X, y, test_size=0.2, random_state=42)\n",
    "\n",
    "    # Save processed data\n",
    "    os.makedirs('data', exist_ok=True)\n",
    "    X_train.to_csv('data/X_train.csv', index=False)\n",
    "    X_test.to_csv('data/X_test.csv', index=False)\n",
    "    y_train.to_csv('data/y_train.csv', index=False)\n",
    "    y_test.to_csv('data/y_test.csv', index=False)\n",
    "\n",
    "    print(\"Iris dataset loaded, preprocessed, and saved to data/\")\n",
    "    return X_train, X_test, y_train, y_test\n",
    "\n",
    "if __name__ == \"__main__\":\n",
    "    load_and_preprocess_iris()"
   ]
  },
  {
   "cell_type": "code",
   "execution_count": null,
   "metadata": {},
   "outputs": [],
   "source": []
  }
 ],
 "metadata": {
  "colab": {
   "provenance": [],
   "toc_visible": true
  },
  "kernelspec": {
   "display_name": "Python 3 (ipykernel)",
   "language": "python",
   "name": "python3"
  },
  "language_info": {
   "codemirror_mode": {
    "name": "ipython",
    "version": 3
   },
   "file_extension": ".py",
   "mimetype": "text/x-python",
   "name": "python",
   "nbconvert_exporter": "python",
   "pygments_lexer": "ipython3",
   "version": "3.13.5"
  }
 },
 "nbformat": 4,
 "nbformat_minor": 4
}
