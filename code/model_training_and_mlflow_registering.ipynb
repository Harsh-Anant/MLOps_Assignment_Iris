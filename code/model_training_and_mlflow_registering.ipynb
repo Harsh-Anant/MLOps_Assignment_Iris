{
 "cells": [
  {
   "cell_type": "code",
   "execution_count": 1,
   "metadata": {
    "id": "u7QZlSLHvh5t"
   },
   "outputs": [],
   "source": [
    "import pandas as pd\n",
    "from sklearn.linear_model import LogisticRegression\n",
    "from sklearn.ensemble import RandomForestClassifier\n",
    "from sklearn.metrics import accuracy_score, precision_score, recall_score, f1_score\n",
    "import mlflow\n",
    "import mlflow.sklearn\n",
    "import os"
   ]
  },
  {
   "cell_type": "code",
   "execution_count": 2,
   "metadata": {
    "id": "G5XLtfD0vtkv"
   },
   "outputs": [],
   "source": [
    "# Load processed data\n",
    "X_train = pd.read_csv('C:/Users/krish/Downloads/jupyter_projects/data/X_train.csv')\n",
    "X_test = pd.read_csv('C:/Users/krish/Downloads/jupyter_projects/data/X_test.csv')\n",
    "y_train = pd.read_csv('C:/Users/krish/Downloads/jupyter_projects/data/y_train.csv').squeeze() # .squeeze() to convert DataFrame to Series\n",
    "y_test = pd.read_csv('C:/Users/krish/Downloads/jupyter_projects/data/y_test.csv').squeeze()"
   ]
  },
  {
   "cell_type": "code",
   "execution_count": 3,
   "metadata": {
    "colab": {
     "base_uri": "https://localhost:8080/"
    },
    "id": "ApS3VMwswBmo",
    "outputId": "7e8970a5-fefc-45b9-81d9-96b953bba2fe"
   },
   "outputs": [
    {
     "name": "stderr",
     "output_type": "stream",
     "text": [
      "2025/07/24 16:30:37 INFO mlflow.tracking.fluent: Experiment with name 'Iris Classification Experiment' does not exist. Creating a new experiment.\n"
     ]
    },
    {
     "data": {
      "text/plain": [
       "<Experiment: artifact_location='file:///C:/Users/krish/Downloads/jupyter_projects/mlruns/959252505828490805', creation_time=1753354837858, experiment_id='959252505828490805', last_update_time=1753354837858, lifecycle_stage='active', name='Iris Classification Experiment', tags={}>"
      ]
     },
     "execution_count": 3,
     "metadata": {},
     "output_type": "execute_result"
    }
   ],
   "source": [
    "mlflow.set_experiment(\"Iris Classification Experiment\")"
   ]
  },
  {
   "cell_type": "code",
   "execution_count": 4,
   "metadata": {},
   "outputs": [
    {
     "name": "stderr",
     "output_type": "stream",
     "text": [
      "2025/07/24 16:30:42 INFO mlflow.tracking.fluent: Autologging successfully enabled for sklearn.\n"
     ]
    }
   ],
   "source": [
    "mlflow.autolog()"
   ]
  },
  {
   "cell_type": "code",
   "execution_count": 5,
   "metadata": {
    "id": "sHTO_GRelo0b"
   },
   "outputs": [],
   "source": [
    "def train_logistic_regression_model_iris():\n",
    "\n",
    "    # Set MLflow tracking URI (optional, defaults to ./mlruns)\n",
    "    # mlflow.set_tracking_uri(\"http://localhost:5000\") # If you run a separate MLflow server\n",
    "\n",
    "    # --- Train Logistic Regression Model ---\n",
    "    with mlflow.start_run(run_name=\"Logistic_Regression_Iris\"):\n",
    "        # Log parameters\n",
    "        solver = \"lbfgs\"\n",
    "        max_iter = 1000\n",
    "        '''mlflow.log_param(\"model_name\", \"Logistic Regression\")\n",
    "        mlflow.log_param(\"solver\", solver)\n",
    "        mlflow.log_param(\"max_iter\", max_iter)'''\n",
    "\n",
    "        model_lr = LogisticRegression(solver=solver, max_iter=max_iter)\n",
    "        model_lr.fit(X_train, y_train)\n",
    "        y_pred_lr = model_lr.predict(X_test)\n",
    "\n",
    "        # Log metrics\n",
    "        accuracy_lr = accuracy_score(y_test, y_pred_lr)\n",
    "        precision_lr = precision_score(y_test, y_pred_lr, average='weighted')\n",
    "        recall_lr = recall_score(y_test, y_pred_lr, average='weighted')\n",
    "        f1_lr = f1_score(y_test, y_pred_lr, average='weighted')\n",
    "\n",
    "        # Log model\n",
    "        '''mlflow.sklearn.log_model(model_lr, name=\"logistic_regression_model\", input_example=X_train.head(1))'''\n",
    "        \n",
    "        mlflow.log_metrics({\n",
    "            \"testing_accuracy\": accuracy_lr,\n",
    "            \"testing_precision\": precision_lr,\n",
    "            \"testing_recall\": recall_lr,\n",
    "            \"testing_f1_score\": f1_lr\n",
    "        })\n",
    "        #print(f\"Logistic Regression Accuracy: {accuracy_lr}\")\n"
   ]
  },
  {
   "cell_type": "code",
   "execution_count": 6,
   "metadata": {
    "id": "jBEej2kPwWYp"
   },
   "outputs": [],
   "source": [
    "def train_random_forest_classifier_model_iris():\n",
    "  # --- Train RandomForestClassifier Model ---\n",
    "    with mlflow.start_run(run_name=\"RandomForest_Iris\"):\n",
    "        # Log parameters\n",
    "        n_estimators = 100\n",
    "        max_depth = 10\n",
    "        '''mlflow.log_param(\"model_name\", \"Random Forest\")\n",
    "        mlflow.log_param(\"n_estimators\", n_estimators)\n",
    "        mlflow.log_param(\"max_depth\", max_depth)'''\n",
    "\n",
    "        model_rf = RandomForestClassifier(n_estimators=n_estimators, max_depth=max_depth, random_state=42)\n",
    "        model_rf.fit(X_train, y_train)\n",
    "        y_pred_rf = model_rf.predict(X_test)\n",
    "\n",
    "        # Log metrics\n",
    "        accuracy_rf = accuracy_score(y_test, y_pred_rf)\n",
    "        precision_rf = precision_score(y_test, y_pred_rf, average='weighted')\n",
    "        recall_rf = recall_score(y_test, y_pred_rf, average='weighted')\n",
    "        f1_rf = f1_score(y_test, y_pred_rf, average='weighted')\n",
    "\n",
    "        #Log model\n",
    "        '''mlflow.sklearn.log_model(model_rf, name=\"random_forest_model\",input_example=X_train.head(1))'''\n",
    "        \n",
    "        mlflow.log_metrics({\n",
    "            \"testing_accuracy\": accuracy_rf,\n",
    "            \"testing_precision\": precision_rf,\n",
    "            \"testing_recall\": recall_rf,\n",
    "            \"testing_f1_score\": f1_rf\n",
    "        })\n",
    "        #print(f\"Random Forest Accuracy: {accuracy_rf}\")\n",
    "\n",
    "        # Log model\n",
    "        \n",
    "\n",
    "    #print(\"\\nMLflow experiments logged. Run 'mlflow ui' in your terminal to view them.\")"
   ]
  },
  {
   "cell_type": "code",
   "execution_count": 8,
   "metadata": {
    "colab": {
     "base_uri": "https://localhost:8080/"
    },
    "id": "ThIuUaw1wtFl",
    "outputId": "4b24cb83-621e-4a27-d799-f21461cc744b"
   },
   "outputs": [],
   "source": [
    "train_logistic_regression_model_iris()"
   ]
  },
  {
   "cell_type": "code",
   "execution_count": 9,
   "metadata": {
    "colab": {
     "base_uri": "https://localhost:8080/"
    },
    "id": "x3u1cxCjw6BW",
    "outputId": "f2819461-294e-413a-b685-d9ae47064f39"
   },
   "outputs": [],
   "source": [
    "train_random_forest_classifier_model_iris()"
   ]
  },
  {
   "cell_type": "code",
   "execution_count": 10,
   "metadata": {
    "colab": {
     "base_uri": "https://localhost:8080/"
    },
    "id": "PYld_M6G1Ss-",
    "outputId": "8d14e0ce-e7ba-49af-f3fa-9785b41d0c9a"
   },
   "outputs": [
    {
     "name": "stderr",
     "output_type": "stream",
     "text": [
      "Successfully registered model 'IrisSpeciesClassifier'.\n",
      "2025/07/24 16:36:22 WARNING mlflow.tracking._model_registry.fluent: Run with id 004e3d78b3f5459b96f48affb9760d10 has no artifacts at artifact path 'model', registering model based on models:/m-6f2a943ec9f94757a383695663fb00c5 instead\n",
      "Created version '1' of model 'IrisSpeciesClassifier'.\n"
     ]
    },
    {
     "data": {
      "text/plain": [
       "<ModelVersion: aliases=[], creation_timestamp=1753355182743, current_stage='None', deployment_job_state=None, description=None, last_updated_timestamp=1753355182743, metrics=[<Metric: dataset_digest=None, dataset_name=None, key='testing_accuracy', model_id='m-6f2a943ec9f94757a383695663fb00c5', run_id='004e3d78b3f5459b96f48affb9760d10', step=0, timestamp=1753355044719, value=1.0>,\n",
       " <Metric: dataset_digest=None, dataset_name=None, key='testing_f1_score', model_id='m-6f2a943ec9f94757a383695663fb00c5', run_id='004e3d78b3f5459b96f48affb9760d10', step=0, timestamp=1753355044719, value=1.0>,\n",
       " <Metric: dataset_digest=None, dataset_name=None, key='testing_precision', model_id='m-6f2a943ec9f94757a383695663fb00c5', run_id='004e3d78b3f5459b96f48affb9760d10', step=0, timestamp=1753355044719, value=1.0>,\n",
       " <Metric: dataset_digest=None, dataset_name=None, key='testing_recall', model_id='m-6f2a943ec9f94757a383695663fb00c5', run_id='004e3d78b3f5459b96f48affb9760d10', step=0, timestamp=1753355044719, value=1.0>,\n",
       " <Metric: dataset_digest='90687d9f', dataset_name='dataset', key='training_accuracy_score', model_id='m-6f2a943ec9f94757a383695663fb00c5', run_id='004e3d78b3f5459b96f48affb9760d10', step=0, timestamp=1753355044299, value=1.0>,\n",
       " <Metric: dataset_digest='90687d9f', dataset_name='dataset', key='training_f1_score', model_id='m-6f2a943ec9f94757a383695663fb00c5', run_id='004e3d78b3f5459b96f48affb9760d10', step=0, timestamp=1753355044299, value=1.0>,\n",
       " <Metric: dataset_digest='90687d9f', dataset_name='dataset', key='training_log_loss', model_id='m-6f2a943ec9f94757a383695663fb00c5', run_id='004e3d78b3f5459b96f48affb9760d10', step=0, timestamp=1753355044299, value=0.03492891578846575>,\n",
       " <Metric: dataset_digest='90687d9f', dataset_name='dataset', key='training_precision_score', model_id='m-6f2a943ec9f94757a383695663fb00c5', run_id='004e3d78b3f5459b96f48affb9760d10', step=0, timestamp=1753355044299, value=1.0>,\n",
       " <Metric: dataset_digest='90687d9f', dataset_name='dataset', key='training_recall_score', model_id='m-6f2a943ec9f94757a383695663fb00c5', run_id='004e3d78b3f5459b96f48affb9760d10', step=0, timestamp=1753355044299, value=1.0>,\n",
       " <Metric: dataset_digest='90687d9f', dataset_name='dataset', key='training_roc_auc', model_id='m-6f2a943ec9f94757a383695663fb00c5', run_id='004e3d78b3f5459b96f48affb9760d10', step=0, timestamp=1753355044299, value=1.0>,\n",
       " <Metric: dataset_digest='90687d9f', dataset_name='dataset', key='training_score', model_id='m-6f2a943ec9f94757a383695663fb00c5', run_id='004e3d78b3f5459b96f48affb9760d10', step=0, timestamp=1753355044639, value=1.0>], model_id='m-6f2a943ec9f94757a383695663fb00c5', name='IrisSpeciesClassifier', params={'bootstrap': 'True',\n",
       " 'ccp_alpha': '0.0',\n",
       " 'class_weight': 'None',\n",
       " 'criterion': 'gini',\n",
       " 'max_depth': '10',\n",
       " 'max_features': 'sqrt',\n",
       " 'max_leaf_nodes': 'None',\n",
       " 'max_samples': 'None',\n",
       " 'min_impurity_decrease': '0.0',\n",
       " 'min_samples_leaf': '1',\n",
       " 'min_samples_split': '2',\n",
       " 'min_weight_fraction_leaf': '0.0',\n",
       " 'monotonic_cst': 'None',\n",
       " 'n_estimators': '100',\n",
       " 'n_jobs': 'None',\n",
       " 'oob_score': 'False',\n",
       " 'random_state': '42',\n",
       " 'verbose': '0',\n",
       " 'warm_start': 'False'}, run_id='004e3d78b3f5459b96f48affb9760d10', run_link=None, source='models:/m-6f2a943ec9f94757a383695663fb00c5', status='READY', status_message=None, tags={}, user_id=None, version=1>"
      ]
     },
     "execution_count": 10,
     "metadata": {},
     "output_type": "execute_result"
    }
   ],
   "source": [
    "run_id = \"004e3d78b3f5459b96f48affb9760d10\"\n",
    "model_uri=f\"runs:/{run_id}/model\"\n",
    "mlflow.register_model(model_uri=model_uri, name=\"IrisSpeciesClassifier\")"
   ]
  }
 ],
 "metadata": {
  "colab": {
   "provenance": []
  },
  "kernelspec": {
   "display_name": "Python 3 (ipykernel)",
   "language": "python",
   "name": "python3"
  },
  "language_info": {
   "codemirror_mode": {
    "name": "ipython",
    "version": 3
   },
   "file_extension": ".py",
   "mimetype": "text/x-python",
   "name": "python",
   "nbconvert_exporter": "python",
   "pygments_lexer": "ipython3",
   "version": "3.13.5"
  }
 },
 "nbformat": 4,
 "nbformat_minor": 4
}
